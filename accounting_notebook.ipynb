{
 "cells": [
  {
   "cell_type": "code",
   "execution_count": null,
   "id": "e965102c",
   "metadata": {},
   "outputs": [],
   "source": [
    "import pandas as pd\n",
    "from datetime import datetime\n",
    "import sources.utils, sources.classes, sources.accounting, sources.io_utils\n",
    "import importlib\n",
    "importlib.reload(sources.utils)\n",
    "importlib.reload(sources.classes)\n",
    "importlib.reload(sources.accounting)\n",
    "importlib.reload(sources.io_utils)\n",
    "\n",
    "pd.set_option('display.max_columns', None)\n",
    "pd.set_option('display.float_format', lambda x: '%.2f' % x)\n",
    "pd.set_option('display.max_colwidth', 100)"
   ]
  },
  {
   "cell_type": "code",
   "execution_count": null,
   "id": "c48bfc6d",
   "metadata": {},
   "outputs": [],
   "source": [
    "#TODO Sign up for Etherscan / Arbiscan and get access tokens. Set them in \"io_utils.py\""
   ]
  },
  {
   "cell_type": "code",
   "execution_count": null,
   "id": "b87454b4",
   "metadata": {},
   "outputs": [],
   "source": [
    "\n",
    "eth_address = \"0xa2e11fA386C698E525185EF211472555cDF006C3\"\n",
    "#todo set INITIAL_DEPOSIT_WALLET in accounting.py (the wallet with source funds)\n",
    "\n",
    "time_start = datetime(2018, 1, 1, 0,0,0)\n",
    "time_end = datetime.now()\n",
    "today_string = time_end.strftime(\"%Y-%m-%d\")"
   ]
  },
  {
   "cell_type": "code",
   "execution_count": null,
   "id": "f42c0cd1",
   "metadata": {},
   "outputs": [],
   "source": [
    "\n",
    "data_dir = \"./data/\"\n",
    "etherscan_dfs = sources.io_utils.get_or_load_etherscan_dfs(time_start, time_end, data_dir, eth_address, explorer=\"etherscan\")\n",
    "arbiscan_dfs = sources.io_utils.get_or_load_etherscan_dfs(time_start, time_end, data_dir, eth_address, explorer=\"arbiscan\")"
   ]
  },
  {
   "cell_type": "code",
   "execution_count": null,
   "id": "0f5b21bf",
   "metadata": {},
   "outputs": [],
   "source": [
    "# this can take some time because it tries to get method name of contract. \n",
    "# TODO: add option to not get method name. But then must adapt Tx classifier to not use method name\n",
    "ethereum_tx_df = sources.io_utils.combine_etherscan_dfs(etherscan_dfs, eth_address)\n",
    "arbitrum_tx_df = sources.io_utils.combine_etherscan_dfs(arbiscan_dfs, eth_address, platform=\"arbitrum\")"
   ]
  },
  {
   "cell_type": "code",
   "execution_count": null,
   "id": "1055c3ba",
   "metadata": {},
   "outputs": [],
   "source": [
    "tx_df = pd.concat([ethereum_tx_df, arbitrum_tx_df], ignore_index=True)\n",
    "tx_df.sort_values(\"TimeStamp\", inplace=True)\n",
    "\n",
    "tokens = tx_df[[\"TokenName\",\"TokenSymbol\"]].copy().drop_duplicates()\n",
    "tokens = sources.io_utils.match_tokens_to_coingecko(tokens)\n",
    "\n",
    "cg_ids = tokens[tokens[\"cg_id\"].notnull()][\"cg_id\"].unique()\n",
    "prices_df = sources.io_utils.fetch_historical_prices(cg_ids, time_start, time_end)\n",
    "token_id2current_price = sources.utils.get_token_id2current_price(prices_df, tokens, time_end)\n",
    "\n",
    "tx_df_priced = sources.utils.merge_tx_df_with_prices(tx_df, tokens, prices_df)"
   ]
  },
  {
   "cell_type": "code",
   "execution_count": null,
   "id": "eec593b4",
   "metadata": {},
   "outputs": [],
   "source": [
    "portfolio, tx_df_gains = sources.accounting.compute_portfolio_and_gains(tx_df_priced)"
   ]
  },
  {
   "cell_type": "markdown",
   "id": "7e9247e3",
   "metadata": {},
   "source": []
  }
 ],
 "metadata": {
  "kernelspec": {
   "display_name": "Python 3 (ipykernel)",
   "language": "python",
   "name": "python3"
  },
  "language_info": {
   "codemirror_mode": {
    "name": "ipython",
    "version": 3
   },
   "file_extension": ".py",
   "mimetype": "text/x-python",
   "name": "python",
   "nbconvert_exporter": "python",
   "pygments_lexer": "ipython3",
   "version": "3.9.10"
  }
 },
 "nbformat": 4,
 "nbformat_minor": 5
}
